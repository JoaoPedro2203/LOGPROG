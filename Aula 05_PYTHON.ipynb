idade = int(input("Digite sua idade: "))

if idade >= 18:
    print("Você é maior de idade.")
elif idade >= 16:
    print("Você pode votar, mas não dirigir.")
else:
    print("Você é menor de idade.")


numero = 1
while numero <= 5:
    print(f"Número: {numero}") # This line needs to be indented
    numero += 1 # Incrementa a variável, This line needs to be indented as well
